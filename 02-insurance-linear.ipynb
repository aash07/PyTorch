{
 "cells": [
  {
   "cell_type": "markdown",
   "metadata": {
    "_cell_guid": "b1076dfc-b9ad-4769-8c92-a6c4dae69d19",
    "_uuid": "8f2839f25d086af736a60e9eeb907d3b93b6e0e5"
   },
   "source": [
    "# Insurance cost prediction using linear regression\n",
    "\n",
    "In this assignment we're going to use information like a person's age, sex, BMI, no. of children and smoking habit to predict the price of yearly medical bills. This kind of model is useful for insurance companies to determine the yearly insurance premium for a person. The dataset for this problem is taken from: https://www.kaggle.com/mirichoi0218/insurance\n",
    "\n",
    "\n",
    "We will create a model with the following steps:\n",
    "1. Download and explore the dataset\n",
    "2. Prepare the dataset for training\n",
    "3. Create a linear regression model\n",
    "4. Train the model to fit the data\n",
    "5. Make predictions using the trained model\n",
    "\n",
    "\n",
    "This assignment builds upon the concepts from the first 2 lectures. It will help to review these Jupyter notebooks:\n",
    "- PyTorch basics: https://jovian.ml/aakashns/01-pytorch-basics\n",
    "- Linear Regression: https://jovian.ml/aakashns/02-linear-regression\n",
    "- Logistic Regression: https://jovian.ml/aakashns/03-logistic-regression\n",
    "- Linear regression (minimal): https://jovian.ml/aakashns/housing-linear-minimal\n",
    "- Logistic regression (minimal): https://jovian.ml/aakashns/mnist-logistic-minimal\n",
    "\n",
    "As you go through this notebook, you will find a **???** in certain places. Your job is to replace the **???** with appropriate code or values, to ensure that the notebook runs properly end-to-end . In some cases, you'll be required to choose some hyperparameters (learning rate, batch size etc.). Try to experiment with the hypeparameters to get the lowest loss.\n"
   ]
  },
  {
   "cell_type": "code",
   "execution_count": 283,
   "metadata": {},
   "outputs": [],
   "source": [
    "# Uncomment and run the commands below if imports fail\n",
    "# !conda install numpy pytorch torchvision cpuonly -c pytorch -y\n",
    "# !pip install matplotlib --upgrade --quiet\n",
    "#!pip install jovian --upgrade --quiet"
   ]
  },
  {
   "cell_type": "code",
   "execution_count": 284,
   "metadata": {},
   "outputs": [],
   "source": [
    "import torch\n",
    "import jovian\n",
    "import torchvision\n",
    "import torch.nn as nn\n",
    "import pandas as pd\n",
    "import matplotlib.pyplot as plt\n",
    "import torch.nn.functional as F\n",
    "from torchvision.datasets.utils import download_url\n",
    "from torch.utils.data import DataLoader, TensorDataset, random_split"
   ]
  },
  {
   "cell_type": "code",
   "execution_count": 285,
   "metadata": {},
   "outputs": [],
   "source": [
    "project_name='02-insurance-linear-regression' # will be used by jovian.commit"
   ]
  },
  {
   "cell_type": "markdown",
   "metadata": {},
   "source": [
    "## Step 1: Download and explore the data\n",
    "\n",
    "Let us begin by downloading the data. We'll use the `download_url` function from PyTorch to get the data as a CSV (comma-separated values) file. "
   ]
  },
  {
   "cell_type": "code",
   "execution_count": 286,
   "metadata": {
    "_cell_guid": "79c7e3d0-c299-4dcb-8224-4455121ee9b0",
    "_uuid": "d629ff2d2480ee46fbb7e2d37f6b5fab8052498a"
   },
   "outputs": [
    {
     "name": "stdout",
     "output_type": "stream",
     "text": [
      "Using downloaded and verified file: .\\insurance.csv\n"
     ]
    }
   ],
   "source": [
    "DATASET_URL = \"https://hub.jovian.ml/wp-content/uploads/2020/05/insurance.csv\"\n",
    "DATA_FILENAME = \"insurance.csv\"\n",
    "download_url(DATASET_URL, '.')"
   ]
  },
  {
   "cell_type": "markdown",
   "metadata": {},
   "source": [
    "To load the dataset into memory, we'll use the `read_csv` function from the `pandas` library. The data will be loaded as a Pandas dataframe. See this short tutorial to learn more: https://data36.com/pandas-tutorial-1-basics-reading-data-files-dataframes-data-selection/"
   ]
  },
  {
   "cell_type": "code",
   "execution_count": 287,
   "metadata": {},
   "outputs": [
    {
     "data": {
      "text/html": [
       "<div>\n",
       "<style scoped>\n",
       "    .dataframe tbody tr th:only-of-type {\n",
       "        vertical-align: middle;\n",
       "    }\n",
       "\n",
       "    .dataframe tbody tr th {\n",
       "        vertical-align: top;\n",
       "    }\n",
       "\n",
       "    .dataframe thead th {\n",
       "        text-align: right;\n",
       "    }\n",
       "</style>\n",
       "<table border=\"1\" class=\"dataframe\">\n",
       "  <thead>\n",
       "    <tr style=\"text-align: right;\">\n",
       "      <th></th>\n",
       "      <th>age</th>\n",
       "      <th>sex</th>\n",
       "      <th>bmi</th>\n",
       "      <th>children</th>\n",
       "      <th>smoker</th>\n",
       "      <th>region</th>\n",
       "      <th>charges</th>\n",
       "    </tr>\n",
       "  </thead>\n",
       "  <tbody>\n",
       "    <tr>\n",
       "      <th>0</th>\n",
       "      <td>19</td>\n",
       "      <td>female</td>\n",
       "      <td>27.900</td>\n",
       "      <td>0</td>\n",
       "      <td>yes</td>\n",
       "      <td>southwest</td>\n",
       "      <td>16884.92400</td>\n",
       "    </tr>\n",
       "    <tr>\n",
       "      <th>1</th>\n",
       "      <td>18</td>\n",
       "      <td>male</td>\n",
       "      <td>33.770</td>\n",
       "      <td>1</td>\n",
       "      <td>no</td>\n",
       "      <td>southeast</td>\n",
       "      <td>1725.55230</td>\n",
       "    </tr>\n",
       "    <tr>\n",
       "      <th>2</th>\n",
       "      <td>28</td>\n",
       "      <td>male</td>\n",
       "      <td>33.000</td>\n",
       "      <td>3</td>\n",
       "      <td>no</td>\n",
       "      <td>southeast</td>\n",
       "      <td>4449.46200</td>\n",
       "    </tr>\n",
       "    <tr>\n",
       "      <th>3</th>\n",
       "      <td>33</td>\n",
       "      <td>male</td>\n",
       "      <td>22.705</td>\n",
       "      <td>0</td>\n",
       "      <td>no</td>\n",
       "      <td>northwest</td>\n",
       "      <td>21984.47061</td>\n",
       "    </tr>\n",
       "    <tr>\n",
       "      <th>4</th>\n",
       "      <td>32</td>\n",
       "      <td>male</td>\n",
       "      <td>28.880</td>\n",
       "      <td>0</td>\n",
       "      <td>no</td>\n",
       "      <td>northwest</td>\n",
       "      <td>3866.85520</td>\n",
       "    </tr>\n",
       "  </tbody>\n",
       "</table>\n",
       "</div>"
      ],
      "text/plain": [
       "   age     sex     bmi  children smoker     region      charges\n",
       "0   19  female  27.900         0    yes  southwest  16884.92400\n",
       "1   18    male  33.770         1     no  southeast   1725.55230\n",
       "2   28    male  33.000         3     no  southeast   4449.46200\n",
       "3   33    male  22.705         0     no  northwest  21984.47061\n",
       "4   32    male  28.880         0     no  northwest   3866.85520"
      ]
     },
     "execution_count": 287,
     "metadata": {},
     "output_type": "execute_result"
    }
   ],
   "source": [
    "dataframe_raw = pd.read_csv(DATA_FILENAME)\n",
    "dataframe_raw.head()"
   ]
  },
  {
   "cell_type": "markdown",
   "metadata": {},
   "source": [
    "We're going to do a slight customization of the data, so that you every participant receives a slightly different version of the dataset. Fill in your name below as a string (enter at least 5 characters)"
   ]
  },
  {
   "cell_type": "code",
   "execution_count": 288,
   "metadata": {},
   "outputs": [],
   "source": [
    "your_name = 'aash07' # at least 5 characters"
   ]
  },
  {
   "cell_type": "markdown",
   "metadata": {},
   "source": [
    "The `customize_dataset` function will customize the dataset slightly using your name as a source of random numbers."
   ]
  },
  {
   "cell_type": "code",
   "execution_count": 289,
   "metadata": {},
   "outputs": [],
   "source": [
    "def customize_dataset(dataframe_raw, rand_str):\n",
    "    dataframe = dataframe_raw.copy(deep=True)\n",
    "    # drop some rows\n",
    "    dataframe = dataframe.sample(int(0.95*len(dataframe)), random_state=int(ord(rand_str[0])))\n",
    "    # scale input\n",
    "    dataframe.bmi = dataframe.bmi * ord(rand_str[1])/100.\n",
    "    # scale target\n",
    "    dataframe.charges = dataframe.charges * ord(rand_str[2])/100.\n",
    "    # drop column\n",
    "    if ord(rand_str[3]) % 2 == 1:\n",
    "        dataframe = dataframe.drop(['region'], axis=1)\n",
    "    return dataframe"
   ]
  },
  {
   "cell_type": "code",
   "execution_count": 290,
   "metadata": {},
   "outputs": [
    {
     "data": {
      "text/html": [
       "<div>\n",
       "<style scoped>\n",
       "    .dataframe tbody tr th:only-of-type {\n",
       "        vertical-align: middle;\n",
       "    }\n",
       "\n",
       "    .dataframe tbody tr th {\n",
       "        vertical-align: top;\n",
       "    }\n",
       "\n",
       "    .dataframe thead th {\n",
       "        text-align: right;\n",
       "    }\n",
       "</style>\n",
       "<table border=\"1\" class=\"dataframe\">\n",
       "  <thead>\n",
       "    <tr style=\"text-align: right;\">\n",
       "      <th></th>\n",
       "      <th>age</th>\n",
       "      <th>sex</th>\n",
       "      <th>bmi</th>\n",
       "      <th>children</th>\n",
       "      <th>smoker</th>\n",
       "      <th>region</th>\n",
       "      <th>charges</th>\n",
       "    </tr>\n",
       "  </thead>\n",
       "  <tbody>\n",
       "    <tr>\n",
       "      <th>27</th>\n",
       "      <td>55</td>\n",
       "      <td>female</td>\n",
       "      <td>31.79175</td>\n",
       "      <td>2</td>\n",
       "      <td>no</td>\n",
       "      <td>northwest</td>\n",
       "      <td>14108.927088</td>\n",
       "    </tr>\n",
       "    <tr>\n",
       "      <th>997</th>\n",
       "      <td>63</td>\n",
       "      <td>female</td>\n",
       "      <td>35.74450</td>\n",
       "      <td>0</td>\n",
       "      <td>no</td>\n",
       "      <td>southeast</td>\n",
       "      <td>15971.163775</td>\n",
       "    </tr>\n",
       "    <tr>\n",
       "      <th>162</th>\n",
       "      <td>54</td>\n",
       "      <td>male</td>\n",
       "      <td>38.41200</td>\n",
       "      <td>1</td>\n",
       "      <td>no</td>\n",
       "      <td>southwest</td>\n",
       "      <td>12018.134800</td>\n",
       "    </tr>\n",
       "    <tr>\n",
       "      <th>824</th>\n",
       "      <td>60</td>\n",
       "      <td>male</td>\n",
       "      <td>23.59040</td>\n",
       "      <td>0</td>\n",
       "      <td>no</td>\n",
       "      <td>northwest</td>\n",
       "      <td>14402.145520</td>\n",
       "    </tr>\n",
       "    <tr>\n",
       "      <th>392</th>\n",
       "      <td>48</td>\n",
       "      <td>male</td>\n",
       "      <td>30.50165</td>\n",
       "      <td>1</td>\n",
       "      <td>no</td>\n",
       "      <td>northeast</td>\n",
       "      <td>10308.669633</td>\n",
       "    </tr>\n",
       "  </tbody>\n",
       "</table>\n",
       "</div>"
      ],
      "text/plain": [
       "     age     sex       bmi  children smoker     region       charges\n",
       "27    55  female  31.79175         2     no  northwest  14108.927088\n",
       "997   63  female  35.74450         0     no  southeast  15971.163775\n",
       "162   54    male  38.41200         1     no  southwest  12018.134800\n",
       "824   60    male  23.59040         0     no  northwest  14402.145520\n",
       "392   48    male  30.50165         1     no  northeast  10308.669633"
      ]
     },
     "execution_count": 290,
     "metadata": {},
     "output_type": "execute_result"
    }
   ],
   "source": [
    "dataframe = customize_dataset(dataframe_raw, your_name)\n",
    "dataframe.head()"
   ]
  },
  {
   "cell_type": "code",
   "execution_count": 291,
   "metadata": {},
   "outputs": [
    {
     "data": {
      "text/plain": [
       "array(['northwest', 'southeast', 'southwest', 'northeast'], dtype=object)"
      ]
     },
     "execution_count": 291,
     "metadata": {},
     "output_type": "execute_result"
    }
   ],
   "source": [
    "dataframe['region'].unique()"
   ]
  },
  {
   "cell_type": "code",
   "execution_count": 292,
   "metadata": {},
   "outputs": [
    {
     "data": {
      "text/plain": [
       "\"#since region is not much impactable on the given data, so I'm dropin region from dataframe\\ndataframe.drop(['region'], axis =1, inplace=True)\""
      ]
     },
     "execution_count": 292,
     "metadata": {},
     "output_type": "execute_result"
    }
   ],
   "source": [
    "'''#since region is not much impactable on the given data, so I'm dropin region from dataframe\n",
    "dataframe.drop(['region'], axis =1, inplace=True)'''"
   ]
  },
  {
   "cell_type": "code",
   "execution_count": 293,
   "metadata": {},
   "outputs": [
    {
     "data": {
      "text/html": [
       "<div>\n",
       "<style scoped>\n",
       "    .dataframe tbody tr th:only-of-type {\n",
       "        vertical-align: middle;\n",
       "    }\n",
       "\n",
       "    .dataframe tbody tr th {\n",
       "        vertical-align: top;\n",
       "    }\n",
       "\n",
       "    .dataframe thead th {\n",
       "        text-align: right;\n",
       "    }\n",
       "</style>\n",
       "<table border=\"1\" class=\"dataframe\">\n",
       "  <thead>\n",
       "    <tr style=\"text-align: right;\">\n",
       "      <th></th>\n",
       "      <th>age</th>\n",
       "      <th>sex</th>\n",
       "      <th>bmi</th>\n",
       "      <th>children</th>\n",
       "      <th>smoker</th>\n",
       "      <th>region</th>\n",
       "      <th>charges</th>\n",
       "    </tr>\n",
       "  </thead>\n",
       "  <tbody>\n",
       "    <tr>\n",
       "      <th>27</th>\n",
       "      <td>55</td>\n",
       "      <td>female</td>\n",
       "      <td>31.79175</td>\n",
       "      <td>2</td>\n",
       "      <td>no</td>\n",
       "      <td>northwest</td>\n",
       "      <td>14108.927088</td>\n",
       "    </tr>\n",
       "    <tr>\n",
       "      <th>997</th>\n",
       "      <td>63</td>\n",
       "      <td>female</td>\n",
       "      <td>35.74450</td>\n",
       "      <td>0</td>\n",
       "      <td>no</td>\n",
       "      <td>southeast</td>\n",
       "      <td>15971.163775</td>\n",
       "    </tr>\n",
       "    <tr>\n",
       "      <th>162</th>\n",
       "      <td>54</td>\n",
       "      <td>male</td>\n",
       "      <td>38.41200</td>\n",
       "      <td>1</td>\n",
       "      <td>no</td>\n",
       "      <td>southwest</td>\n",
       "      <td>12018.134800</td>\n",
       "    </tr>\n",
       "    <tr>\n",
       "      <th>824</th>\n",
       "      <td>60</td>\n",
       "      <td>male</td>\n",
       "      <td>23.59040</td>\n",
       "      <td>0</td>\n",
       "      <td>no</td>\n",
       "      <td>northwest</td>\n",
       "      <td>14402.145520</td>\n",
       "    </tr>\n",
       "    <tr>\n",
       "      <th>392</th>\n",
       "      <td>48</td>\n",
       "      <td>male</td>\n",
       "      <td>30.50165</td>\n",
       "      <td>1</td>\n",
       "      <td>no</td>\n",
       "      <td>northeast</td>\n",
       "      <td>10308.669633</td>\n",
       "    </tr>\n",
       "  </tbody>\n",
       "</table>\n",
       "</div>"
      ],
      "text/plain": [
       "     age     sex       bmi  children smoker     region       charges\n",
       "27    55  female  31.79175         2     no  northwest  14108.927088\n",
       "997   63  female  35.74450         0     no  southeast  15971.163775\n",
       "162   54    male  38.41200         1     no  southwest  12018.134800\n",
       "824   60    male  23.59040         0     no  northwest  14402.145520\n",
       "392   48    male  30.50165         1     no  northeast  10308.669633"
      ]
     },
     "execution_count": 293,
     "metadata": {},
     "output_type": "execute_result"
    }
   ],
   "source": [
    "dataframe.head()"
   ]
  },
  {
   "cell_type": "code",
   "execution_count": 294,
   "metadata": {},
   "outputs": [
    {
     "data": {
      "text/plain": [
       "array(['no', 'yes'], dtype=object)"
      ]
     },
     "execution_count": 294,
     "metadata": {},
     "output_type": "execute_result"
    }
   ],
   "source": [
    "dataframe['smoker'].unique()"
   ]
  },
  {
   "cell_type": "code",
   "execution_count": 295,
   "metadata": {},
   "outputs": [
    {
     "data": {
      "text/plain": [
       "array(['female', 'male'], dtype=object)"
      ]
     },
     "execution_count": 295,
     "metadata": {},
     "output_type": "execute_result"
    }
   ],
   "source": [
    "dataframe['sex'].unique()"
   ]
  },
  {
   "cell_type": "code",
   "execution_count": 296,
   "metadata": {},
   "outputs": [
    {
     "data": {
      "text/plain": [
       "\"from sklearn.preprocessing import LabelEncoder\\nx1 = LabelEncoder()\\ndataframe['sex'] =x1.fit_transform(dataframe['sex'])\\ndataframe['smoker'] =x1.fit_transform(dataframe['smoker'])\\ndataframe.head()\""
      ]
     },
     "execution_count": 296,
     "metadata": {},
     "output_type": "execute_result"
    }
   ],
   "source": [
    "'''from sklearn.preprocessing import LabelEncoder\n",
    "x1 = LabelEncoder()\n",
    "dataframe['sex'] =x1.fit_transform(dataframe['sex'])\n",
    "dataframe['smoker'] =x1.fit_transform(dataframe['smoker'])\n",
    "dataframe.head()'''"
   ]
  },
  {
   "cell_type": "markdown",
   "metadata": {},
   "source": [
    "Let us answer some basic questions about the dataset. \n",
    "\n",
    "\n",
    "**Q: How many rows does the dataset have?**"
   ]
  },
  {
   "cell_type": "code",
   "execution_count": 297,
   "metadata": {},
   "outputs": [
    {
     "data": {
      "text/plain": [
       "(1271, 7)"
      ]
     },
     "execution_count": 297,
     "metadata": {},
     "output_type": "execute_result"
    }
   ],
   "source": [
    "# the shape is\n",
    "dataframe.shape"
   ]
  },
  {
   "cell_type": "code",
   "execution_count": 298,
   "metadata": {},
   "outputs": [
    {
     "name": "stdout",
     "output_type": "stream",
     "text": [
      "number of rows are: \n",
      " 1271\n"
     ]
    }
   ],
   "source": [
    "num_rows = dataframe.shape[0]\n",
    "print('number of rows are: \\n',num_rows)"
   ]
  },
  {
   "cell_type": "markdown",
   "metadata": {},
   "source": [
    "**Q: How many columns doe the dataset have**"
   ]
  },
  {
   "cell_type": "code",
   "execution_count": 299,
   "metadata": {},
   "outputs": [
    {
     "name": "stdout",
     "output_type": "stream",
     "text": [
      "number of columns are: \n",
      " 7\n"
     ]
    }
   ],
   "source": [
    "num_cols = dataframe.shape[1]\n",
    "print('number of columns are: \\n',num_cols)"
   ]
  },
  {
   "cell_type": "markdown",
   "metadata": {},
   "source": [
    "**Q: What are the column titles of the input variables?**"
   ]
  },
  {
   "cell_type": "code",
   "execution_count": 300,
   "metadata": {},
   "outputs": [
    {
     "data": {
      "text/plain": [
       "Index(['age', 'sex', 'bmi', 'children', 'smoker', 'region', 'charges'], dtype='object')"
      ]
     },
     "execution_count": 300,
     "metadata": {},
     "output_type": "execute_result"
    }
   ],
   "source": [
    "dataframe.columns"
   ]
  },
  {
   "cell_type": "code",
   "execution_count": 301,
   "metadata": {},
   "outputs": [
    {
     "data": {
      "text/plain": [
       "['age', 'sex', 'bmi', 'children', 'region', 'smoker']"
      ]
     },
     "execution_count": 301,
     "metadata": {},
     "output_type": "execute_result"
    }
   ],
   "source": [
    "input_cols = ['age', 'sex', 'bmi', 'children', 'region','smoker' ]\n",
    "input_cols"
   ]
  },
  {
   "cell_type": "markdown",
   "metadata": {},
   "source": [
    "**Q: Which of the input columns are non-numeric or categorial variables ?**\n",
    "\n",
    "Hint: `sex` is one of them. List the columns that are not numbers."
   ]
  },
  {
   "cell_type": "code",
   "execution_count": 302,
   "metadata": {},
   "outputs": [],
   "source": [
    "categorical_cols = ['sex','region','smoker']"
   ]
  },
  {
   "cell_type": "markdown",
   "metadata": {},
   "source": [
    "**Q: What are the column titles of output/target variable(s)?**"
   ]
  },
  {
   "cell_type": "code",
   "execution_count": 303,
   "metadata": {},
   "outputs": [],
   "source": [
    "output_cols = ['charges']"
   ]
  },
  {
   "cell_type": "markdown",
   "metadata": {},
   "source": [
    "**Q: (Optional) What is the minimum, maximum and average value of the `charges` column? Can you show the distribution of values in a graph?**\n",
    "Use this data visualization cheatsheet for referece: https://jovian.ml/aakashns/dataviz-cheatsheet"
   ]
  },
  {
   "cell_type": "code",
   "execution_count": 304,
   "metadata": {},
   "outputs": [
    {
     "name": "stdout",
     "output_type": "stream",
     "text": [
      "The minimum value for the charges is:\n",
      " 1290.1549850000001\n"
     ]
    }
   ],
   "source": [
    "# Write your answer here\n",
    "'''minimum'''\n",
    "print('The minimum value for the charges is:\\n',dataframe['charges'].min())"
   ]
  },
  {
   "cell_type": "code",
   "execution_count": 305,
   "metadata": {},
   "outputs": [
    {
     "name": "stdout",
     "output_type": "stream",
     "text": [
      "The maximum value for the charges is:\n",
      " 73335.99221150001\n"
     ]
    }
   ],
   "source": [
    "'''maximum'''\n",
    "print('The maximum value for the charges is:\\n',dataframe['charges'].max())"
   ]
  },
  {
   "cell_type": "code",
   "execution_count": 306,
   "metadata": {},
   "outputs": [
    {
     "name": "stdout",
     "output_type": "stream",
     "text": [
      "The average value for the charges is:\n",
      " 15311.32460160413\n"
     ]
    }
   ],
   "source": [
    "'''average'''\n",
    "print('The average value for the charges is:\\n',dataframe['charges'].mean())"
   ]
  },
  {
   "cell_type": "markdown",
   "metadata": {},
   "source": [
    "#### Distrubution of values(charges) with respect to the sex and age:"
   ]
  },
  {
   "cell_type": "code",
   "execution_count": 307,
   "metadata": {},
   "outputs": [],
   "source": [
    "from matplotlib.pyplot import plot\n",
    "%matplotlib inline"
   ]
  },
  {
   "cell_type": "code",
   "execution_count": 308,
   "metadata": {},
   "outputs": [
    {
     "data": {
      "text/plain": [
       "sex\n",
       "female    14414.175717\n",
       "male      16190.306920\n",
       "Name: charges, dtype: float64"
      ]
     },
     "execution_count": 308,
     "metadata": {},
     "output_type": "execute_result"
    }
   ],
   "source": [
    "## Sex\n",
    "x = dataframe.groupby('sex')['charges'].mean()\n",
    "x.head(2)"
   ]
  },
  {
   "cell_type": "code",
   "execution_count": 309,
   "metadata": {},
   "outputs": [
    {
     "data": {
      "image/png": "[encoded data removed]",
      "text/plain": [
       "<Figure size 1440x360 with 1 Axes>"
      ]
     },
     "metadata": {
      "needs_background": "light"
     },
     "output_type": "display_data"
    }
   ],
   "source": [
    "x.plot.bar(figsize=(20,5));"
   ]
  },
  {
   "cell_type": "markdown",
   "metadata": {},
   "source": [
    "It is found to be average charges for male is greater than female"
   ]
  },
  {
   "cell_type": "code",
   "execution_count": 310,
   "metadata": {},
   "outputs": [
    {
     "data": {
      "text/plain": [
       "age\n",
       "18     8421.506474\n",
       "19    11489.281723\n",
       "Name: charges, dtype: float64"
      ]
     },
     "execution_count": 310,
     "metadata": {},
     "output_type": "execute_result"
    }
   ],
   "source": [
    "## age\n",
    "y = dataframe.groupby('age')['charges'].mean()\n",
    "y.head(2)"
   ]
  },
  {
   "cell_type": "code",
   "execution_count": 311,
   "metadata": {},
   "outputs": [
    {
     "data": {
      "image/png": "[encoded data removed]",
      "text/plain": [
       "<Figure size 1440x360 with 1 Axes>"
      ]
     },
     "metadata": {
      "needs_background": "light"
     },
     "output_type": "display_data"
    }
   ],
   "source": [
    "y.plot.bar(figsize=(20,5));"
   ]
  },
  {
   "cell_type": "markdown",
   "metadata": {},
   "source": [
    "In above graph we can see average distrubution of charges with respect to their ages."
   ]
  },
  {
   "cell_type": "code",
   "execution_count": 312,
   "metadata": {},
   "outputs": [],
   "source": [
    "jovian.commit(project=project_name, environment=None)"
   ]
  },
  {
   "cell_type": "markdown",
   "metadata": {},
   "source": [
    "## Step 2: Prepare the dataset for training\n",
    "\n",
    "We need to convert the data from the Pandas dataframe into a PyTorch tensors for training. To do this, the first step is to convert it numpy arrays. If you've filled out `input_cols`, `categorial_cols` and `output_cols` correctly, this following function will perform the conversion to numpy arrays."
   ]
  },
  {
   "cell_type": "code",
   "execution_count": 313,
   "metadata": {},
   "outputs": [],
   "source": [
    "def dataframe_to_arrays(dataframe):\n",
    "    # Make a copy of the original dataframe\n",
    "    dataframe1 = dataframe.copy(deep=True)\n",
    "    # Convert non-numeric categorical columns to numbers\n",
    "    for col in categorical_cols:\n",
    "        dataframe1[col] = dataframe1[col].astype('category').cat.codes\n",
    "    # Extract input & outupts as numpy arrays\n",
    "    inputs_array = dataframe1[input_cols].to_numpy()\n",
    "    targets_array = dataframe1[output_cols].to_numpy()\n",
    "    return inputs_array, targets_array"
   ]
  },
  {
   "cell_type": "markdown",
   "metadata": {},
   "source": [
    "Read through the [Pandas documentation](https://pandas.pydata.org/pandas-docs/stable/user_guide/categorical.html) to understand how we're converting categorical variables into numbers."
   ]
  },
  {
   "cell_type": "code",
   "execution_count": 314,
   "metadata": {},
   "outputs": [
    {
     "data": {
      "text/plain": [
       "(array([[55.     ,  0.     , 31.79175,  2.     ,  1.     ,  0.     ],\n",
       "        [63.     ,  0.     , 35.7445 ,  0.     ,  2.     ,  0.     ],\n",
       "        [54.     ,  1.     , 38.412  ,  1.     ,  3.     ,  0.     ],\n",
       "        ...,\n",
       "        [58.     ,  1.     , 31.0497 ,  1.     ,  2.     ,  0.     ],\n",
       "        [32.     ,  0.     , 42.8934 ,  0.     ,  2.     ,  0.     ],\n",
       "        [35.     ,  1.     , 17.3242 ,  1.     ,  1.     ,  0.     ]]),\n",
       " array([[14108.9270875],\n",
       "        [15971.163775 ],\n",
       "        [12018.1348   ],\n",
       "        ...,\n",
       "        [13738.619785 ],\n",
       "        [ 4593.30447  ],\n",
       "        [ 5883.97546  ]]))"
      ]
     },
     "execution_count": 314,
     "metadata": {},
     "output_type": "execute_result"
    }
   ],
   "source": [
    "inputs_array, targets_array = dataframe_to_arrays(dataframe)\n",
    "inputs_array, targets_array"
   ]
  },
  {
   "cell_type": "markdown",
   "metadata": {},
   "source": [
    "**Q: Convert the numpy arrays `inputs_array` and `targets_array` into PyTorch tensors. Make sure that the data type is `torch.float32`.**"
   ]
  },
  {
   "cell_type": "code",
   "execution_count": 315,
   "metadata": {},
   "outputs": [],
   "source": [
    "inputs = torch.tensor(inputs_array,dtype = torch.float32)\n",
    "targets = torch.tensor(targets_array,dtype = torch.float32)"
   ]
  },
  {
   "cell_type": "code",
   "execution_count": 316,
   "metadata": {},
   "outputs": [
    {
     "data": {
      "text/plain": [
       "(torch.float32, torch.float32)"
      ]
     },
     "execution_count": 316,
     "metadata": {},
     "output_type": "execute_result"
    }
   ],
   "source": [
    "inputs.dtype, targets.dtype"
   ]
  },
  {
   "cell_type": "code",
   "execution_count": 317,
   "metadata": {},
   "outputs": [
    {
     "data": {
      "text/plain": [
       "(torch.Size([1271, 6]), torch.Size([1271, 1]))"
      ]
     },
     "execution_count": 317,
     "metadata": {},
     "output_type": "execute_result"
    }
   ],
   "source": [
    "inputs.shape, targets.shape"
   ]
  },
  {
   "cell_type": "markdown",
   "metadata": {},
   "source": [
    "Next, we need to create PyTorch datasets & data loaders for training & validation. We'll start by creating a `TensorDataset`."
   ]
  },
  {
   "cell_type": "code",
   "execution_count": 318,
   "metadata": {},
   "outputs": [],
   "source": [
    "dataset = TensorDataset(inputs, targets)"
   ]
  },
  {
   "cell_type": "markdown",
   "metadata": {},
   "source": [
    "**Q: Pick a number between `0.1` and `0.2` to determine the fraction of data that will be used for creating the validation set. Then use `random_split` to create training & validation datasets. **"
   ]
  },
  {
   "cell_type": "code",
   "execution_count": 319,
   "metadata": {},
   "outputs": [
    {
     "data": {
      "text/plain": [
       "(216, 1055)"
      ]
     },
     "execution_count": 319,
     "metadata": {},
     "output_type": "execute_result"
    }
   ],
   "source": [
    "val_percent = 0.17 # between 0.1 and 0.2\n",
    "val_size = int(num_rows * val_percent)\n",
    "train_size = num_rows - val_size\n",
    "\n",
    "\n",
    "train_ds, val_ds = random_split(dataset, [1055, 216]) # Use the random_split function to split dataset into 2 parts of the desired length\n",
    "val_size, train_size"
   ]
  },
  {
   "cell_type": "markdown",
   "metadata": {},
   "source": [
    "Finally, we can create data loaders for training & validation.\n",
    "\n",
    "**Q: Pick a batch size for the data loader.**"
   ]
  },
  {
   "cell_type": "code",
   "execution_count": 320,
   "metadata": {},
   "outputs": [],
   "source": [
    "batch_size = 35"
   ]
  },
  {
   "cell_type": "code",
   "execution_count": 321,
   "metadata": {},
   "outputs": [],
   "source": [
    "train_loader = DataLoader(train_ds, batch_size, shuffle=True)\n",
    "val_loader = DataLoader(val_ds, batch_size)"
   ]
  },
  {
   "cell_type": "markdown",
   "metadata": {},
   "source": [
    "Let's look at a batch of data to verify everything is working fine so far."
   ]
  },
  {
   "cell_type": "code",
   "execution_count": 322,
   "metadata": {},
   "outputs": [
    {
     "name": "stdout",
     "output_type": "stream",
     "text": [
      "inputs: tensor([[24.0000,  0.0000, 22.5137,  0.0000,  2.0000,  0.0000],\n",
      "        [56.0000,  1.0000, 39.0910,  0.0000,  3.0000,  0.0000],\n",
      "        [64.0000,  1.0000, 24.8320,  2.0000,  3.0000,  0.0000],\n",
      "        [60.0000,  0.0000, 23.7941,  0.0000,  2.0000,  0.0000],\n",
      "        [38.0000,  1.0000, 27.0000,  2.0000,  1.0000,  0.0000],\n",
      "        [28.0000,  0.0000, 25.0260,  0.0000,  3.0000,  0.0000],\n",
      "        [25.0000,  0.0000, 40.0853,  0.0000,  0.0000,  0.0000],\n",
      "        [57.0000,  0.0000, 27.9214,  4.0000,  0.0000,  0.0000],\n",
      "        [19.0000,  1.0000, 43.5336,  0.0000,  2.0000,  1.0000],\n",
      "        [19.0000,  1.0000, 33.0770,  0.0000,  3.0000,  0.0000],\n",
      "        [27.0000,  1.0000, 44.5230,  2.0000,  3.0000,  0.0000],\n",
      "        [23.0000,  1.0000, 23.7747,  0.0000,  0.0000,  0.0000],\n",
      "        [24.0000,  1.0000, 34.7842,  0.0000,  2.0000,  0.0000],\n",
      "        [27.0000,  1.0000, 28.2755,  0.0000,  2.0000,  1.0000],\n",
      "        [19.0000,  0.0000, 28.9060,  0.0000,  3.0000,  0.0000],\n",
      "        [50.0000,  0.0000, 43.4026,  0.0000,  0.0000,  0.0000],\n",
      "        [56.0000,  1.0000, 32.6502,  4.0000,  2.0000,  0.0000],\n",
      "        [41.0000,  0.0000, 27.2085,  1.0000,  2.0000,  0.0000],\n",
      "        [42.0000,  1.0000, 29.1000,  0.0000,  3.0000,  1.0000],\n",
      "        [35.0000,  0.0000, 26.8690,  3.0000,  3.0000,  0.0000],\n",
      "        [20.0000,  0.0000, 30.9624,  0.0000,  1.0000,  0.0000],\n",
      "        [50.0000,  1.0000, 26.6313,  1.0000,  0.0000,  0.0000],\n",
      "        [59.0000,  0.0000, 26.8884,  3.0000,  2.0000,  0.0000],\n",
      "        [47.0000,  1.0000, 24.6477,  1.0000,  2.0000,  1.0000],\n",
      "        [29.0000,  1.0000, 28.8430,  2.0000,  1.0000,  0.0000],\n",
      "        [37.0000,  0.0000, 33.0818,  1.0000,  1.0000,  0.0000],\n",
      "        [50.0000,  0.0000, 26.7720,  1.0000,  3.0000,  1.0000],\n",
      "        [25.0000,  0.0000, 25.9863,  2.0000,  1.0000,  0.0000],\n",
      "        [58.0000,  1.0000, 29.3958,  0.0000,  0.0000,  0.0000],\n",
      "        [22.0000,  0.0000, 30.0894,  3.0000,  2.0000,  1.0000],\n",
      "        [36.0000,  1.0000, 28.8090,  0.0000,  2.0000,  0.0000],\n",
      "        [23.0000,  0.0000, 27.4607,  0.0000,  1.0000,  1.0000],\n",
      "        [22.0000,  0.0000, 26.2870,  0.0000,  3.0000,  0.0000],\n",
      "        [51.0000,  1.0000, 22.5137,  1.0000,  2.0000,  1.0000],\n",
      "        [29.0000,  1.0000, 21.8396,  3.0000,  0.0000,  0.0000]])\n",
      "targets: tensor([[28844.0332],\n",
      "        [12192.7432],\n",
      "        [17236.6973],\n",
      "        [14524.3809],\n",
      "        [ 7424.2422],\n",
      "        [ 3635.6721],\n",
      "        [20560.7363],\n",
      "        [16553.5586],\n",
      "        [45681.1562],\n",
      "        [ 1450.6583],\n",
      "        [ 4247.4424],\n",
      "        [ 2755.5103],\n",
      "        [ 2284.9734],\n",
      "        [20983.4707],\n",
      "        [ 2006.1348],\n",
      "        [10972.9502],\n",
      "        [14891.5283],\n",
      "        [ 7785.7212],\n",
      "        [25465.6367],\n",
      "        [ 7376.3047],\n",
      "        [ 2600.8042],\n",
      "        [11060.3115],\n",
      "        [16101.3037],\n",
      "        [25275.4785],\n",
      "        [20881.5566],\n",
      "        [ 7029.2061],\n",
      "        [28198.3027],\n",
      "        [ 4817.4800],\n",
      "        [13728.9941],\n",
      "        [40934.9297],\n",
      "        [ 5059.6904],\n",
      "        [20739.0625],\n",
      "        [ 2477.5151],\n",
      "        [25550.8320],\n",
      "        [ 5991.0156]])\n"
     ]
    }
   ],
   "source": [
    "for xb, yb in train_loader:\n",
    "    print(\"inputs:\", xb)\n",
    "    print(\"targets:\", yb)\n",
    "    break"
   ]
  },
  {
   "cell_type": "markdown",
   "metadata": {},
   "source": [
    "Let's save our work by committing to Jovian."
   ]
  },
  {
   "cell_type": "code",
   "execution_count": 323,
   "metadata": {},
   "outputs": [],
   "source": [
    "jovian.commit(project=project_name, environment=None)"
   ]
  },
  {
   "cell_type": "markdown",
   "metadata": {},
   "source": [
    "## Step 3: Create a Linear Regression Model\n",
    "\n",
    "Our model itself is a fairly straightforward linear regression (we'll build more complex models in the next assignment). \n"
   ]
  },
  {
   "cell_type": "code",
   "execution_count": 324,
   "metadata": {},
   "outputs": [],
   "source": [
    "input_size = len(input_cols)\n",
    "output_size = len(output_cols)"
   ]
  },
  {
   "cell_type": "code",
   "execution_count": 325,
   "metadata": {},
   "outputs": [
    {
     "data": {
      "text/plain": [
       "(6, 1)"
      ]
     },
     "execution_count": 325,
     "metadata": {},
     "output_type": "execute_result"
    }
   ],
   "source": [
    "input_size,output_size"
   ]
  },
  {
   "cell_type": "markdown",
   "metadata": {},
   "source": [
    "**Q: Complete the class definition below by filling out the constructor (`__init__`), `forward`, `training_step` and `validation_step` methods.**\n",
    "\n",
    "Hint: Think carefully about picking a good loss fuction (it's not cross entropy). Maybe try 2-3 of them and see which one works best. See https://pytorch.org/docs/stable/nn.functional.html#loss-functions"
   ]
  },
  {
   "cell_type": "code",
   "execution_count": 338,
   "metadata": {},
   "outputs": [],
   "source": [
    "class InsuranceModel(nn.Module):\n",
    "    def __init__(self):\n",
    "        super().__init__()\n",
    "        self.linear = nn.Linear(input_size, output_size)   # fill this (hint: use input_size & output_size defined above)\n",
    "        \n",
    "    def forward(self, xb):\n",
    "        out = self.linear(xb)                         # fill this\n",
    "        return out\n",
    "    \n",
    "    def training_step(self, batch):\n",
    "        inputs, targets = batch \n",
    "        # Generate predictions\n",
    "        out = self(inputs)          \n",
    "        # Calcuate loss\n",
    "        loss = F.l1_loss(out, targets)                  # fill this\n",
    "        return loss\n",
    "    \n",
    "    def validation_step(self, batch):\n",
    "        inputs, targets = batch\n",
    "        # Generate predictions\n",
    "        out = self(inputs)\n",
    "        # Calculate loss\n",
    "        loss = F.l1_loss(out, targets)                           # fill this    \n",
    "        return {'val_loss': loss.detach()}\n",
    "        \n",
    "    def validation_epoch_end(self, outputs):\n",
    "        batch_losses = [x['val_loss'] for x in outputs]\n",
    "        epoch_loss = torch.stack(batch_losses).mean()   # Combine losses\n",
    "        return {'val_loss': epoch_loss.item()}\n",
    "    \n",
    "    def epoch_end(self, epoch, result, num_epochs):\n",
    "        # Print result every 20th epoch\n",
    "        if (epoch+1) % 20 == 0 or epoch == num_epochs-1:\n",
    "            print(\"Epoch [{}], val_loss: {:.4f}\".format(epoch+1, result['val_loss']))"
   ]
  },
  {
   "cell_type": "markdown",
   "metadata": {},
   "source": [
    "Let us create a model using the `InsuranceModel` class. You may need to come back later and re-run the next cell to reinitialize the model, in case the loss becomes `nan` or `infinity`."
   ]
  },
  {
   "cell_type": "code",
   "execution_count": 339,
   "metadata": {},
   "outputs": [],
   "source": [
    "model = InsuranceModel()"
   ]
  },
  {
   "cell_type": "markdown",
   "metadata": {},
   "source": [
    "Let's check out the weights and biases of the model using `model.parameters`."
   ]
  },
  {
   "cell_type": "code",
   "execution_count": 340,
   "metadata": {},
   "outputs": [
    {
     "data": {
      "text/plain": [
       "[Parameter containing:\n",
       " tensor([[ 0.1328, -0.0695, -0.3510, -0.3957,  0.0298, -0.2680]],\n",
       "        requires_grad=True), Parameter containing:\n",
       " tensor([0.0830], requires_grad=True)]"
      ]
     },
     "execution_count": 340,
     "metadata": {},
     "output_type": "execute_result"
    }
   ],
   "source": [
    "list(model.parameters())"
   ]
  },
  {
   "cell_type": "markdown",
   "metadata": {},
   "source": [
    "One final commit before we train the model."
   ]
  },
  {
   "cell_type": "code",
   "execution_count": 341,
   "metadata": {},
   "outputs": [],
   "source": [
    "jovian.commit(project=project_name, environment=None)"
   ]
  },
  {
   "cell_type": "markdown",
   "metadata": {},
   "source": [
    "## Step 4: Train the model to fit the data\n",
    "\n",
    "To train our model, we'll use the same `fit` function explained in the lecture. That's the benefit of defining a generic training loop - you can use it for any problem."
   ]
  },
  {
   "cell_type": "code",
   "execution_count": 342,
   "metadata": {},
   "outputs": [],
   "source": [
    "def evaluate(model, val_loader):\n",
    "    outputs = [model.validation_step(batch) for batch in val_loader]\n",
    "    return model.validation_epoch_end(outputs)\n",
    "\n",
    "def fit(epochs, lr, model, train_loader, val_loader, opt_func=torch.optim.SGD):\n",
    "    history = []\n",
    "    optimizer = opt_func(model.parameters(), lr)\n",
    "    for epoch in range(epochs):\n",
    "        # Training Phase \n",
    "        for batch in train_loader:\n",
    "            loss = model.training_step(batch)\n",
    "            loss.backward()\n",
    "            optimizer.step()\n",
    "            optimizer.zero_grad()\n",
    "        # Validation phase\n",
    "        result = evaluate(model, val_loader)\n",
    "        model.epoch_end(epoch, result, epochs)\n",
    "        history.append(result)\n",
    "    return history"
   ]
  },
  {
   "cell_type": "markdown",
   "metadata": {},
   "source": [
    "**Q: Use the `evaluate` function to calculate the loss on the validation set before training.**"
   ]
  },
  {
   "cell_type": "code",
   "execution_count": 343,
   "metadata": {},
   "outputs": [
    {
     "name": "stdout",
     "output_type": "stream",
     "text": [
      "{'val_loss': 15246.2919921875}\n"
     ]
    }
   ],
   "source": [
    "result = evaluate(model, val_loader) # Use the the evaluate function\n",
    "print(result)"
   ]
  },
  {
   "cell_type": "markdown",
   "metadata": {},
   "source": [
    "\n",
    "We are now ready to train the model. You may need to run the training loop many times, for different number of epochs and with different learning rates, to get a good result. Also, if your loss becomes too large (or `nan`), you may have to re-initialize the model by running the cell `model = InsuranceModel()`. Experiment with this for a while, and try to get to as low a loss as possible."
   ]
  },
  {
   "cell_type": "markdown",
   "metadata": {},
   "source": [
    "**Q: Train the model 4-5 times with different learning rates & for different number of epochs.**\n",
    "\n",
    "Hint: Vary learning rates by orders of 10 (e.g. `1e-2`, `1e-3`, `1e-4`, `1e-5`, `1e-6`) to figure out what works."
   ]
  },
  {
   "cell_type": "code",
   "execution_count": 344,
   "metadata": {},
   "outputs": [
    {
     "name": "stdout",
     "output_type": "stream",
     "text": [
      "Epoch [20], val_loss: 8867.0957\n",
      "Epoch [40], val_loss: 8772.9482\n",
      "Epoch [60], val_loss: 8688.9434\n",
      "Epoch [80], val_loss: 8608.4990\n",
      "Epoch [100], val_loss: 8535.9834\n",
      "Epoch [120], val_loss: 8466.2510\n",
      "Epoch [140], val_loss: 8397.5830\n",
      "Epoch [160], val_loss: 8336.3340\n",
      "Epoch [180], val_loss: 8288.6299\n",
      "Epoch [200], val_loss: 8246.2627\n",
      "Epoch [220], val_loss: 8212.3154\n",
      "Epoch [240], val_loss: 8186.7993\n",
      "Epoch [260], val_loss: 8169.9497\n",
      "Epoch [280], val_loss: 8155.6382\n",
      "Epoch [300], val_loss: 8146.7192\n",
      "Epoch [320], val_loss: 8139.9600\n",
      "Epoch [340], val_loss: 8134.7378\n",
      "Epoch [360], val_loss: 8131.5894\n",
      "Epoch [380], val_loss: 8128.1753\n",
      "Epoch [400], val_loss: 8126.5669\n",
      "Epoch [420], val_loss: 8125.1411\n",
      "Epoch [440], val_loss: 8124.5132\n",
      "Epoch [460], val_loss: 8121.8428\n",
      "Epoch [480], val_loss: 8120.8550\n",
      "Epoch [500], val_loss: 8119.4136\n",
      "Epoch [520], val_loss: 8119.4321\n",
      "Epoch [540], val_loss: 8118.2983\n",
      "Epoch [560], val_loss: 8116.9155\n",
      "Epoch [580], val_loss: 8116.8506\n",
      "Epoch [600], val_loss: 8114.8130\n",
      "Epoch [620], val_loss: 8114.1685\n",
      "Epoch [640], val_loss: 8114.9072\n",
      "Epoch [660], val_loss: 8112.7373\n",
      "Epoch [680], val_loss: 8111.4800\n",
      "Epoch [700], val_loss: 8110.9297\n",
      "Epoch [720], val_loss: 8110.3203\n",
      "Epoch [740], val_loss: 8110.0493\n",
      "Epoch [760], val_loss: 8108.5513\n",
      "Epoch [780], val_loss: 8108.6196\n",
      "Epoch [800], val_loss: 8106.4062\n",
      "Epoch [820], val_loss: 8106.2837\n",
      "Epoch [840], val_loss: 8105.2422\n",
      "Epoch [860], val_loss: 8104.7344\n",
      "Epoch [880], val_loss: 8104.1631\n",
      "Epoch [900], val_loss: 8103.0674\n",
      "Epoch [920], val_loss: 8101.8022\n",
      "Epoch [940], val_loss: 8101.7646\n",
      "Epoch [960], val_loss: 8101.7612\n",
      "Epoch [980], val_loss: 8100.7056\n",
      "Epoch [1000], val_loss: 8099.6104\n"
     ]
    }
   ],
   "source": [
    "epochs = 1000\n",
    "lr = 1e-2\n",
    "history1 = fit(epochs, lr, model, train_loader, val_loader)"
   ]
  },
  {
   "cell_type": "code",
   "execution_count": 345,
   "metadata": {},
   "outputs": [
    {
     "name": "stdout",
     "output_type": "stream",
     "text": [
      "Epoch [20], val_loss: 8099.8511\n",
      "Epoch [40], val_loss: 8099.7427\n",
      "Epoch [60], val_loss: 8099.6460\n",
      "Epoch [80], val_loss: 8099.4966\n",
      "Epoch [100], val_loss: 8099.4165\n",
      "Epoch [120], val_loss: 8099.2227\n",
      "Epoch [140], val_loss: 8099.3203\n",
      "Epoch [160], val_loss: 8099.2002\n",
      "Epoch [180], val_loss: 8099.0713\n",
      "Epoch [200], val_loss: 8099.1235\n",
      "Epoch [220], val_loss: 8099.1460\n",
      "Epoch [240], val_loss: 8098.9883\n",
      "Epoch [260], val_loss: 8098.9102\n",
      "Epoch [280], val_loss: 8098.7368\n",
      "Epoch [300], val_loss: 8098.7578\n",
      "Epoch [320], val_loss: 8098.6030\n",
      "Epoch [340], val_loss: 8098.4912\n",
      "Epoch [360], val_loss: 8098.5713\n",
      "Epoch [380], val_loss: 8098.4385\n",
      "Epoch [400], val_loss: 8098.2173\n",
      "Epoch [420], val_loss: 8098.3252\n",
      "Epoch [440], val_loss: 8098.1587\n",
      "Epoch [460], val_loss: 8098.0923\n",
      "Epoch [480], val_loss: 8097.8335\n",
      "Epoch [500], val_loss: 8097.9312\n",
      "Epoch [520], val_loss: 8097.8433\n",
      "Epoch [540], val_loss: 8098.0503\n",
      "Epoch [560], val_loss: 8097.7417\n",
      "Epoch [580], val_loss: 8097.5327\n",
      "Epoch [600], val_loss: 8097.5439\n",
      "Epoch [620], val_loss: 8097.5708\n",
      "Epoch [640], val_loss: 8097.3247\n",
      "Epoch [660], val_loss: 8097.3472\n",
      "Epoch [680], val_loss: 8097.4878\n",
      "Epoch [700], val_loss: 8097.3843\n",
      "Epoch [720], val_loss: 8097.0771\n",
      "Epoch [740], val_loss: 8097.1880\n",
      "Epoch [760], val_loss: 8097.0776\n",
      "Epoch [780], val_loss: 8097.0225\n",
      "Epoch [800], val_loss: 8097.0366\n",
      "Epoch [820], val_loss: 8097.0542\n",
      "Epoch [840], val_loss: 8096.7944\n",
      "Epoch [860], val_loss: 8096.7280\n",
      "Epoch [880], val_loss: 8096.6084\n",
      "Epoch [900], val_loss: 8096.6665\n",
      "Epoch [920], val_loss: 8096.5088\n",
      "Epoch [940], val_loss: 8096.4648\n",
      "Epoch [960], val_loss: 8096.4351\n",
      "Epoch [980], val_loss: 8096.0757\n",
      "Epoch [1000], val_loss: 8096.2856\n"
     ]
    }
   ],
   "source": [
    "epochs = 1000\n",
    "lr = 1e-3\n",
    "history2 = fit(epochs, lr, model, train_loader, val_loader)"
   ]
  },
  {
   "cell_type": "code",
   "execution_count": 346,
   "metadata": {},
   "outputs": [
    {
     "name": "stdout",
     "output_type": "stream",
     "text": [
      "Epoch [20], val_loss: 8096.2959\n",
      "Epoch [40], val_loss: 8096.3110\n",
      "Epoch [60], val_loss: 8096.3076\n",
      "Epoch [80], val_loss: 8096.2808\n",
      "Epoch [100], val_loss: 8096.2563\n",
      "Epoch [120], val_loss: 8096.2432\n",
      "Epoch [140], val_loss: 8096.2197\n",
      "Epoch [160], val_loss: 8096.1812\n",
      "Epoch [180], val_loss: 8096.1826\n",
      "Epoch [200], val_loss: 8096.1772\n",
      "Epoch [220], val_loss: 8096.1636\n",
      "Epoch [240], val_loss: 8096.1528\n",
      "Epoch [260], val_loss: 8096.1313\n",
      "Epoch [280], val_loss: 8096.1367\n",
      "Epoch [300], val_loss: 8096.1265\n",
      "Epoch [320], val_loss: 8096.1138\n",
      "Epoch [340], val_loss: 8096.1021\n",
      "Epoch [360], val_loss: 8096.0991\n",
      "Epoch [380], val_loss: 8096.0894\n",
      "Epoch [400], val_loss: 8096.0933\n",
      "Epoch [420], val_loss: 8096.0903\n",
      "Epoch [440], val_loss: 8096.0776\n",
      "Epoch [460], val_loss: 8096.0669\n",
      "Epoch [480], val_loss: 8096.0732\n",
      "Epoch [500], val_loss: 8096.0688\n",
      "Epoch [520], val_loss: 8096.0688\n",
      "Epoch [540], val_loss: 8096.0439\n",
      "Epoch [560], val_loss: 8096.0552\n",
      "Epoch [580], val_loss: 8096.0703\n",
      "Epoch [600], val_loss: 8096.0742\n",
      "Epoch [620], val_loss: 8096.0669\n",
      "Epoch [640], val_loss: 8096.0376\n",
      "Epoch [660], val_loss: 8096.0156\n",
      "Epoch [680], val_loss: 8096.0225\n",
      "Epoch [700], val_loss: 8095.9937\n",
      "Epoch [720], val_loss: 8095.9976\n",
      "Epoch [740], val_loss: 8095.9922\n",
      "Epoch [760], val_loss: 8095.9766\n",
      "Epoch [780], val_loss: 8095.9897\n",
      "Epoch [800], val_loss: 8095.9922\n",
      "Epoch [820], val_loss: 8095.9648\n",
      "Epoch [840], val_loss: 8095.9507\n",
      "Epoch [860], val_loss: 8095.9458\n",
      "Epoch [880], val_loss: 8095.9365\n",
      "Epoch [900], val_loss: 8095.9292\n",
      "Epoch [920], val_loss: 8095.9116\n",
      "Epoch [940], val_loss: 8095.9150\n",
      "Epoch [960], val_loss: 8095.9072\n",
      "Epoch [980], val_loss: 8095.9087\n",
      "Epoch [1000], val_loss: 8095.9116\n"
     ]
    }
   ],
   "source": [
    "epochs = 1000\n",
    "lr = 1e-4\n",
    "history3 = fit(epochs, lr, model, train_loader, val_loader)"
   ]
  },
  {
   "cell_type": "code",
   "execution_count": 347,
   "metadata": {},
   "outputs": [
    {
     "name": "stdout",
     "output_type": "stream",
     "text": [
      "Epoch [20], val_loss: 8095.9111\n",
      "Epoch [40], val_loss: 8095.9092\n",
      "Epoch [60], val_loss: 8095.9087\n",
      "Epoch [80], val_loss: 8095.9072\n",
      "Epoch [100], val_loss: 8095.9067\n",
      "Epoch [120], val_loss: 8095.9062\n",
      "Epoch [140], val_loss: 8095.9053\n",
      "Epoch [160], val_loss: 8095.9038\n",
      "Epoch [180], val_loss: 8095.9028\n",
      "Epoch [200], val_loss: 8095.9023\n",
      "Epoch [220], val_loss: 8095.8994\n",
      "Epoch [240], val_loss: 8095.8994\n",
      "Epoch [260], val_loss: 8095.8960\n",
      "Epoch [280], val_loss: 8095.8945\n",
      "Epoch [300], val_loss: 8095.8916\n",
      "Epoch [320], val_loss: 8095.8901\n",
      "Epoch [340], val_loss: 8095.8877\n",
      "Epoch [360], val_loss: 8095.8882\n",
      "Epoch [380], val_loss: 8095.8862\n",
      "Epoch [400], val_loss: 8095.8853\n",
      "Epoch [420], val_loss: 8095.8838\n",
      "Epoch [440], val_loss: 8095.8853\n",
      "Epoch [460], val_loss: 8095.8857\n",
      "Epoch [480], val_loss: 8095.8838\n",
      "Epoch [500], val_loss: 8095.8818\n",
      "Epoch [520], val_loss: 8095.8843\n",
      "Epoch [540], val_loss: 8095.8833\n",
      "Epoch [560], val_loss: 8095.8838\n",
      "Epoch [580], val_loss: 8095.8804\n",
      "Epoch [600], val_loss: 8095.8804\n",
      "Epoch [620], val_loss: 8095.8794\n",
      "Epoch [640], val_loss: 8095.8818\n",
      "Epoch [660], val_loss: 8095.8823\n",
      "Epoch [680], val_loss: 8095.8804\n",
      "Epoch [700], val_loss: 8095.8813\n",
      "Epoch [720], val_loss: 8095.8813\n",
      "Epoch [740], val_loss: 8095.8794\n",
      "Epoch [760], val_loss: 8095.8789\n",
      "Epoch [780], val_loss: 8095.8794\n",
      "Epoch [800], val_loss: 8095.8784\n",
      "Epoch [820], val_loss: 8095.8779\n",
      "Epoch [840], val_loss: 8095.8765\n",
      "Epoch [860], val_loss: 8095.8765\n",
      "Epoch [880], val_loss: 8095.8755\n",
      "Epoch [900], val_loss: 8095.8760\n",
      "Epoch [920], val_loss: 8095.8765\n",
      "Epoch [940], val_loss: 8095.8750\n",
      "Epoch [960], val_loss: 8095.8760\n",
      "Epoch [980], val_loss: 8095.8750\n",
      "Epoch [1000], val_loss: 8095.8726\n"
     ]
    }
   ],
   "source": [
    "epochs = 1000\n",
    "lr = 1e-5\n",
    "history4 = fit(epochs, lr, model, train_loader, val_loader)"
   ]
  },
  {
   "cell_type": "code",
   "execution_count": 348,
   "metadata": {},
   "outputs": [
    {
     "name": "stdout",
     "output_type": "stream",
     "text": [
      "Epoch [20], val_loss: 8095.8726\n",
      "Epoch [40], val_loss: 8095.8726\n",
      "Epoch [60], val_loss: 8095.8726\n",
      "Epoch [80], val_loss: 8095.8721\n",
      "Epoch [100], val_loss: 8095.8721\n",
      "Epoch [120], val_loss: 8095.8735\n",
      "Epoch [140], val_loss: 8095.8735\n",
      "Epoch [160], val_loss: 8095.8735\n",
      "Epoch [180], val_loss: 8095.8740\n",
      "Epoch [200], val_loss: 8095.8740\n",
      "Epoch [220], val_loss: 8095.8735\n",
      "Epoch [240], val_loss: 8095.8735\n",
      "Epoch [260], val_loss: 8095.8740\n",
      "Epoch [280], val_loss: 8095.8740\n",
      "Epoch [300], val_loss: 8095.8740\n",
      "Epoch [320], val_loss: 8095.8740\n",
      "Epoch [340], val_loss: 8095.8740\n",
      "Epoch [360], val_loss: 8095.8735\n",
      "Epoch [380], val_loss: 8095.8726\n",
      "Epoch [400], val_loss: 8095.8726\n",
      "Epoch [420], val_loss: 8095.8740\n",
      "Epoch [440], val_loss: 8095.8740\n",
      "Epoch [460], val_loss: 8095.8740\n",
      "Epoch [480], val_loss: 8095.8740\n",
      "Epoch [500], val_loss: 8095.8740\n",
      "Epoch [520], val_loss: 8095.8740\n",
      "Epoch [540], val_loss: 8095.8740\n",
      "Epoch [560], val_loss: 8095.8740\n",
      "Epoch [580], val_loss: 8095.8740\n",
      "Epoch [600], val_loss: 8095.8740\n",
      "Epoch [620], val_loss: 8095.8740\n",
      "Epoch [640], val_loss: 8095.8745\n",
      "Epoch [660], val_loss: 8095.8755\n",
      "Epoch [680], val_loss: 8095.8750\n",
      "Epoch [700], val_loss: 8095.8755\n",
      "Epoch [720], val_loss: 8095.8750\n",
      "Epoch [740], val_loss: 8095.8755\n",
      "Epoch [760], val_loss: 8095.8750\n",
      "Epoch [780], val_loss: 8095.8755\n",
      "Epoch [800], val_loss: 8095.8750\n",
      "Epoch [820], val_loss: 8095.8750\n",
      "Epoch [840], val_loss: 8095.8750\n",
      "Epoch [860], val_loss: 8095.8755\n",
      "Epoch [880], val_loss: 8095.8755\n",
      "Epoch [900], val_loss: 8095.8750\n",
      "Epoch [920], val_loss: 8095.8755\n",
      "Epoch [940], val_loss: 8095.8760\n",
      "Epoch [960], val_loss: 8095.8750\n",
      "Epoch [980], val_loss: 8095.8750\n",
      "Epoch [1000], val_loss: 8095.8750\n"
     ]
    }
   ],
   "source": [
    "epochs = 1000\n",
    "lr = 1e-6\n",
    "history5 = fit(epochs, lr, model, train_loader, val_loader)"
   ]
  },
  {
   "cell_type": "markdown",
   "metadata": {},
   "source": [
    "**Q: What is the final validation loss of your model?**"
   ]
  },
  {
   "cell_type": "code",
   "execution_count": 352,
   "metadata": {},
   "outputs": [
    {
     "data": {
      "text/plain": [
       "Text(0, 0.5, 'losses')"
      ]
     },
     "execution_count": 352,
     "metadata": {},
     "output_type": "execute_result"
    },
    {
     "data": {
      "image/png": "[encoded data removed]",
      "text/plain": [
       "<Figure size 432x288 with 1 Axes>"
      ]
     },
     "metadata": {
      "needs_background": "light"
     },
     "output_type": "display_data"
    }
   ],
   "source": [
    "val_loss = [result] + history1 + history2 + history3 + history4 + history5\n",
    "val_loss_list = [vl['val_loss'] for vl in val_loss]\n",
    "\n",
    "plt.plot(val_loss_list, '-.')\n",
    "\n",
    "plt.xlabel('epochs')\n",
    "plt.ylabel('losses')"
   ]
  },
  {
   "cell_type": "markdown",
   "metadata": {},
   "source": [
    "Let's log the final validation loss to Jovian and commit the notebook"
   ]
  },
  {
   "cell_type": "code",
   "execution_count": 353,
   "metadata": {},
   "outputs": [
    {
     "name": "stdout",
     "output_type": "stream",
     "text": [
      "[jovian] Metrics logged.\r\n"
     ]
    }
   ],
   "source": [
    "jovian.log_metrics(val_loss=val_loss)"
   ]
  },
  {
   "cell_type": "code",
   "execution_count": null,
   "metadata": {},
   "outputs": [],
   "source": [
    "jovian.commit(project=project_name, environment=None)"
   ]
  },
  {
   "cell_type": "markdown",
   "metadata": {},
   "source": [
    "Now scroll back up, re-initialize the model, and try different set of values for batch size, number of epochs, learning rate etc. Commit each experiment and use the \"Compare\" and \"View Diff\" options on Jovian to compare the different results."
   ]
  },
  {
   "cell_type": "markdown",
   "metadata": {},
   "source": [
    "## Step 5: Make predictions using the trained model\n",
    "\n",
    "**Q: Complete the following function definition to make predictions on a single input**"
   ]
  },
  {
   "cell_type": "code",
   "execution_count": 354,
   "metadata": {},
   "outputs": [],
   "source": [
    "def predict_single(input, target, model):\n",
    "    inputs = input.unsqueeze(0)\n",
    "    predictions = model(inputs)                # fill this\n",
    "    prediction = predictions[0].detach()\n",
    "    print(\"Input:\", input)\n",
    "    print(\"Target:\", target)\n",
    "    print(\"Prediction:\", prediction)"
   ]
  },
  {
   "cell_type": "code",
   "execution_count": 355,
   "metadata": {},
   "outputs": [
    {
     "name": "stdout",
     "output_type": "stream",
     "text": [
      "Input: tensor([46.0000,  0.0000, 19.3515,  2.0000,  1.0000,  0.0000])\n",
      "Target: tensor([10572.9141])\n",
      "Prediction: tensor([11736.8682])\n"
     ]
    }
   ],
   "source": [
    "input, target = val_ds[0]\n",
    "predict_single(input, target, model)"
   ]
  },
  {
   "cell_type": "code",
   "execution_count": 356,
   "metadata": {},
   "outputs": [
    {
     "name": "stdout",
     "output_type": "stream",
     "text": [
      "Input: tensor([32.0000,  0.0000, 22.9405,  1.0000,  2.0000,  0.0000])\n",
      "Target: tensor([20270.1758])\n",
      "Prediction: tensor([7146.7432])\n"
     ]
    }
   ],
   "source": [
    "input, target = val_ds[10]\n",
    "predict_single(input, target, model)"
   ]
  },
  {
   "cell_type": "code",
   "execution_count": 357,
   "metadata": {},
   "outputs": [
    {
     "name": "stdout",
     "output_type": "stream",
     "text": [
      "Input: tensor([25.0000,  0.0000, 23.5710,  3.0000,  3.0000,  0.0000])\n",
      "Target: tensor([5050.3999])\n",
      "Prediction: tensor([5150.0962])\n"
     ]
    }
   ],
   "source": [
    "input, target = val_ds[23]\n",
    "predict_single(input, target, model)"
   ]
  },
  {
   "cell_type": "markdown",
   "metadata": {},
   "source": [
    "Are you happy with your model's predictions? Try to improve them further."
   ]
  },
  {
   "cell_type": "code",
   "execution_count": null,
   "metadata": {},
   "outputs": [
    {
     "data": {
      "application/javascript": [
       "window.require && require([\"base/js/namespace\"],function(Jupyter){Jupyter.notebook.save_checkpoint()})"
      ],
      "text/plain": [
       "<IPython.core.display.Javascript object>"
      ]
     },
     "metadata": {},
     "output_type": "display_data"
    },
    {
     "name": "stdout",
     "output_type": "stream",
     "text": [
      "[jovian] Attempting to save notebook..\u001b[0m\n",
      "[jovian] Please enter your API key ( from https://jovian.ml/ ):\u001b[0m\n",
      "API KEY: ········\n",
      "[jovian] Creating a new project \"aakashns/02-insurance-linear-regression\"\u001b[0m\n",
      "[jovian] Uploading notebook..\u001b[0m\n",
      "[jovian] Committed successfully! https://jovian.ml/aakashns/02-insurance-linear-regression\u001b[0m\n"
     ]
    },
    {
     "data": {
      "application/javascript": [
       "window.require && require([\"base/js/namespace\"],function(Jupyter){Jupyter.notebook.save_checkpoint()})"
      ],
      "text/plain": [
       "<IPython.core.display.Javascript object>"
      ]
     },
     "metadata": {},
     "output_type": "display_data"
    }
   ],
   "source": [
    "jovian.commit(project=project_name, environment=None)\n",
    "jovian.commit(project=project_name, environment=None) # try again, kaggle fails sometimes"
   ]
  },
  {
   "cell_type": "code",
   "execution_count": null,
   "metadata": {},
   "outputs": [],
   "source": []
  }
 ],
 "metadata": {
  "kernelspec": {
   "display_name": "Python 3",
   "language": "python",
   "name": "python3"
  },
  "language_info": {
   "codemirror_mode": {
    "name": "ipython",
    "version": 3
   },
   "file_extension": ".py",
   "mimetype": "text/x-python",
   "name": "python",
   "nbconvert_exporter": "python",
   "pygments_lexer": "ipython3",
   "version": "3.7.6"
  }
 },
 "nbformat": 4,
 "nbformat_minor": 4
}
